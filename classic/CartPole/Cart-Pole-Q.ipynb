{
 "metadata": {
  "language_info": {
   "codemirror_mode": {
    "name": "ipython",
    "version": 3
   },
   "file_extension": ".py",
   "mimetype": "text/x-python",
   "name": "python",
   "nbconvert_exporter": "python",
   "pygments_lexer": "ipython3",
   "version": "3.9.4"
  },
  "orig_nbformat": 2,
  "kernelspec": {
   "name": "python394jvsc74a57bd0767d51c1340bd893661ea55ea3124f6de3c7a262a8b4abca0554b478b1e2ff90",
   "display_name": "Python 3.9.4 64-bit"
  },
  "metadata": {
   "interpreter": {
    "hash": "767d51c1340bd893661ea55ea3124f6de3c7a262a8b4abca0554b478b1e2ff90"
   }
  }
 },
 "nbformat": 4,
 "nbformat_minor": 2,
 "cells": [
  {
   "source": [
    "# Introductions\n",
    "\n",
    "## Author\n",
    "\n",
    "John Cinquegrana   \n",
    "<I need a new professional email that isn't my school one>\n",
    "\n",
    "## Preamble\n",
    "\n",
    "My first adventure into actually writing a reinforcement learning application. I've studied them in a college setting before, but haven't written one. This is used only for getting used to the gym library, don't expect any good models or results out of it."
   ],
   "cell_type": "markdown",
   "metadata": {}
  },
  {
   "source": [
    "# Cart Pole Problem\n",
    "\n",
    "The cart pole problem is a very simple one, perfect for getting used to everything. You have to balance a pole on top of a cart that is restricted to a single dimension of movement. It will make much more sense when you see it live.\n",
    "\n",
    "Here is an example of using keras with an OpenAI Gym environment: https://keras.io/examples/rl/actor_critic_cartpole/  \n",
    "Here is an example of using the Cart Pole problem in Gym: https://gym.openai.com/docs/#environments"
   ],
   "cell_type": "markdown",
   "metadata": {}
  },
  {
   "source": [
    "# Setup\n",
    "## Environment Setup\n",
    "Before we set up the agent we should know the details about our environment, and the input it will be receiving.\n",
    "### Initialization\n",
    "Import and load in the CartPole environment."
   ],
   "cell_type": "markdown",
   "metadata": {}
  },
  {
   "cell_type": "code",
   "execution_count": 2,
   "metadata": {},
   "outputs": [],
   "source": [
    "import gym\n",
    "env = gym.make('CartPole-v0')"
   ]
  },
  {
   "source": [
    "### Outputs\n",
    "\n",
    "See what the actual values we'll be sampling from the environment look like"
   ],
   "cell_type": "markdown",
   "metadata": {}
  },
  {
   "cell_type": "code",
   "execution_count": 4,
   "metadata": {},
   "outputs": [
    {
     "output_type": "stream",
     "name": "stdout",
     "text": [
      "Discrete(2)\nBox(-3.4028234663852886e+38, 3.4028234663852886e+38, (4,), float32)\n[4.8000002e+00 3.4028235e+38 4.1887903e-01 3.4028235e+38]\n[-4.8000002e+00 -3.4028235e+38 -4.1887903e-01 -3.4028235e+38]\n"
     ]
    }
   ],
   "source": [
    "print(env.action_space)\n",
    "print(env.observation_space)\n",
    "print(env.observation_space.high)\n",
    "print(env.observation_space.low)"
   ]
  },
  {
   "source": [
    "## Agent Setup\n",
    "### Imports\n",
    "\n",
    "Verify that every single tf import works correctly."
   ],
   "cell_type": "markdown",
   "metadata": {}
  },
  {
   "cell_type": "code",
   "execution_count": null,
   "metadata": {},
   "outputs": [],
   "source": [
    "import numpy as np\n",
    "import tensorflow as tf\n",
    "from tensorflow import keras\n",
    "from tensorflow.keras import layers"
   ]
  },
  {
   "source": [
    "### Model\n",
    "\n",
    "Create a simple model we will use for Q-learning later on"
   ],
   "cell_type": "markdown",
   "metadata": {}
  },
  {
   "source": [
    "# Training"
   ],
   "cell_type": "markdown",
   "metadata": {}
  },
  {
   "source": [
    "# Evaluation"
   ],
   "cell_type": "markdown",
   "metadata": {}
  }
 ]
}